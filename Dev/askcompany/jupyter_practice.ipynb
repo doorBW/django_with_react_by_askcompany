{
 "cells": [
  {
   "cell_type": "code",
   "execution_count": 1,
   "metadata": {},
   "outputs": [],
   "source": [
    "import os\n",
    "os.environ['DJANGO_SETTINGS_MODULE'] = 'askcompany.settings'\n",
    "os.environ['DJANGO_ALLOW_ASYNC_UNSAFE'] = 'true'\n",
    "\n",
    "import django\n",
    "django.setup()"
   ]
  },
  {
   "cell_type": "code",
   "execution_count": 2,
   "metadata": {},
   "outputs": [],
   "source": [
    "from instagram.models import Post"
   ]
  },
  {
   "cell_type": "code",
   "execution_count": 4,
   "metadata": {},
   "outputs": [
    {
     "name": "stdout",
     "output_type": "stream",
     "text": [
      "<class 'django.db.models.query.QuerySet'>\n",
      "SELECT \"instagram_post\".\"id\", \"instagram_post\".\"message\", \"instagram_post\".\"photo\", \"instagram_post\".\"is_public\", \"instagram_post\".\"created_at\", \"instagram_post\".\"updated_at\" FROM \"instagram_post\"\n"
     ]
    },
    {
     "data": {
      "text/plain": [
       "<QuerySet [<Post: 첫번째 메세지>, <Post: 두번째 메세지>, <Post: 세번째 메세지>]>"
      ]
     },
     "execution_count": 4,
     "metadata": {},
     "output_type": "execute_result"
    }
   ],
   "source": [
    "qs = Post.objects.all()\n",
    "print(type(qs))\n",
    "print(qs.query)\n",
    "qs"
   ]
  },
  {
   "cell_type": "code",
   "execution_count": 5,
   "metadata": {},
   "outputs": [
    {
     "name": "stdout",
     "output_type": "stream",
     "text": [
      "SELECT \"instagram_post\".\"id\", \"instagram_post\".\"message\", \"instagram_post\".\"photo\", \"instagram_post\".\"is_public\", \"instagram_post\".\"created_at\", \"instagram_post\".\"updated_at\" FROM \"instagram_post\" ORDER BY \"instagram_post\".\"id\" DESC\n"
     ]
    },
    {
     "data": {
      "text/plain": [
       "<QuerySet [<Post: 세번째 메세지>, <Post: 두번째 메세지>, <Post: 첫번째 메세지>]>"
      ]
     },
     "execution_count": 5,
     "metadata": {},
     "output_type": "execute_result"
    }
   ],
   "source": [
    "qs = Post.objects.all().order_by('-id')\n",
    "print(qs.query)\n",
    "qs"
   ]
  },
  {
   "cell_type": "code",
   "execution_count": 6,
   "metadata": {},
   "outputs": [
    {
     "name": "stdout",
     "output_type": "stream",
     "text": [
      "SELECT \"instagram_post\".\"id\", \"instagram_post\".\"message\", \"instagram_post\".\"photo\", \"instagram_post\".\"is_public\", \"instagram_post\".\"created_at\", \"instagram_post\".\"updated_at\" FROM \"instagram_post\" ORDER BY \"instagram_post\".\"id\" DESC LIMIT 2\n"
     ]
    },
    {
     "data": {
      "text/plain": [
       "<QuerySet [<Post: 세번째 메세지>, <Post: 두번째 메세지>]>"
      ]
     },
     "execution_count": 6,
     "metadata": {},
     "output_type": "execute_result"
    }
   ],
   "source": [
    "qs = Post.objects.all().order_by('-id')[:2]\n",
    "print(qs.query)\n",
    "qs"
   ]
  },
  {
   "cell_type": "code",
   "execution_count": 10,
   "metadata": {},
   "outputs": [
    {
     "name": "stdout",
     "output_type": "stream",
     "text": [
      "id: 3, message: 세번째 메세지 2020-03-13 12:02:20.745961+00:00\n",
      "id: 2, message: 두번째 메세지 2020-03-13 12:02:16.761346+00:00\n"
     ]
    }
   ],
   "source": [
    "for post in qs:\n",
    "#     print(post.id, post.message, post.created_at)\n",
    "#     print(post.__dict__)\n",
    "    print(\"id: {id}, message: {message} {created_at}\".format(**post.__dict__))"
   ]
  },
  {
   "cell_type": "code",
   "execution_count": 12,
   "metadata": {},
   "outputs": [
    {
     "data": {
      "text/plain": [
       "<QuerySet [<Post: 첫번째 메세지>]>"
      ]
     },
     "execution_count": 12,
     "metadata": {},
     "output_type": "execute_result"
    }
   ],
   "source": [
    "qs = Post.objects.all().filter(message__startswith=\"첫번째\")\n",
    "qs"
   ]
  },
  {
   "cell_type": "code",
   "execution_count": 14,
   "metadata": {},
   "outputs": [
    {
     "name": "stdout",
     "output_type": "stream",
     "text": [
      "SELECT \"instagram_post\".\"id\", \"instagram_post\".\"message\", \"instagram_post\".\"photo\", \"instagram_post\".\"is_public\", \"instagram_post\".\"created_at\", \"instagram_post\".\"updated_at\" FROM \"instagram_post\" WHERE \"instagram_post\".\"message\" LIKE %첫번째% ESCAPE '\\' ORDER BY \"instagram_post\".\"id\" DESC\n"
     ]
    },
    {
     "data": {
      "text/plain": [
       "<QuerySet [<Post: 첫번째 메세지>]>"
      ]
     },
     "execution_count": 14,
     "metadata": {},
     "output_type": "execute_result"
    }
   ],
   "source": [
    "query = \"첫번째\" # 검색어\n",
    "qs = Post.objects\\\n",
    "        .all()\\\n",
    "        .filter(message__icontains=query).order_by('-id')\n",
    "print(qs.query)\n",
    "qs"
   ]
  },
  {
   "cell_type": "code",
   "execution_count": 21,
   "metadata": {},
   "outputs": [
    {
     "data": {
      "text/plain": [
       "<Post: 세번째 메세지>"
      ]
     },
     "execution_count": 21,
     "metadata": {},
     "output_type": "execute_result"
    }
   ],
   "source": [
    "qs = Post.objects.all()\n",
    "# qs[3] # IndexError\n",
    "# qs.get() # MultipleObjectsReturned\n",
    "# qs.get(id__lte=2) # less than, less than equal, greater than, greater than equal # MultipleObjectsReturned\n",
    "qs.last()"
   ]
  },
  {
   "cell_type": "code",
   "execution_count": 22,
   "metadata": {},
   "outputs": [
    {
     "data": {
      "text/plain": [
       "<QuerySet []>"
      ]
     },
     "execution_count": 22,
     "metadata": {},
     "output_type": "execute_result"
    }
   ],
   "source": [
    "qs.none() # 빈 쿼리 셋"
   ]
  },
  {
   "cell_type": "code",
   "execution_count": 23,
   "metadata": {},
   "outputs": [
    {
     "name": "stdout",
     "output_type": "stream",
     "text": [
      "None\n"
     ]
    }
   ],
   "source": [
    "print(qs.none().first())"
   ]
  },
  {
   "cell_type": "code",
   "execution_count": 30,
   "metadata": {},
   "outputs": [
    {
     "name": "stdout",
     "output_type": "stream",
     "text": [
      "SELECT \"instagram_post\".\"id\", \"instagram_post\".\"message\", \"instagram_post\".\"photo\", \"instagram_post\".\"is_public\", \"instagram_post\".\"created_at\", \"instagram_post\".\"updated_at\" FROM \"instagram_post\" WHERE (\"instagram_post\".\"id\" >= 2 OR \"instagram_post\".\"message\" LIKE %첫번째% ESCAPE '\\')\n"
     ]
    }
   ],
   "source": [
    "from django.db.models import Q\n",
    "qs = Post.objects.all()\n",
    "# qs = qs.filter(Q(id__gte=2), Q(message__icontains=query))\n",
    "# qs = qs.filter(Q(id__gte=2) & Q(message__icontains=query)) # qs = qs.filter(d__gte=2, message__icontains=query)\n",
    "# qs = qs.filter(Q(id__gte=2) | Q(message__icontains=query))\n",
    "cond = Q(id__gte=2) | Q(message__icontains=query)\n",
    "# cond &=Q(...)\n",
    "qs = qs.filter(cond)\n",
    "print(qs.query)"
   ]
  },
  {
   "cell_type": "code",
   "execution_count": null,
   "metadata": {},
   "outputs": [],
   "source": []
  }
 ],
 "metadata": {
  "kernelspec": {
   "display_name": "Python 3",
   "language": "python",
   "name": "python3"
  },
  "language_info": {
   "codemirror_mode": {
    "name": "ipython",
    "version": 3
   },
   "file_extension": ".py",
   "mimetype": "text/x-python",
   "name": "python",
   "nbconvert_exporter": "python",
   "pygments_lexer": "ipython3",
   "version": "3.7.6"
  }
 },
 "nbformat": 4,
 "nbformat_minor": 4
}
